{
 "cells": [
  {
   "cell_type": "code",
   "execution_count": 19,
   "id": "8c5adbd1-5a71-4553-900f-e6bdc371ab4a",
   "metadata": {},
   "outputs": [
    {
     "name": "stdout",
     "output_type": "stream",
     "text": [
      "86400\n",
      "24.0\n",
      "24\n"
     ]
    }
   ],
   "source": [
    "seconds_per_hour = 3600\n",
    "seconds_per_day = seconds_per_hour * 24\n",
    "print(seconds_per_day)\n",
    "print(seconds_per_day/seconds_per_hour)\n",
    "print(seconds_per_day//seconds_per_hour)\n",
    "# 3.6 The number did, in fact, agree with the floating point value from the previous question."
   ]
  }
 ],
 "metadata": {
  "kernelspec": {
   "display_name": "Python [conda env:base] *",
   "language": "python",
   "name": "conda-base-py"
  },
  "language_info": {
   "codemirror_mode": {
    "name": "ipython",
    "version": 3
   },
   "file_extension": ".py",
   "mimetype": "text/x-python",
   "name": "python",
   "nbconvert_exporter": "python",
   "pygments_lexer": "ipython3",
   "version": "3.12.7"
  }
 },
 "nbformat": 4,
 "nbformat_minor": 5
}

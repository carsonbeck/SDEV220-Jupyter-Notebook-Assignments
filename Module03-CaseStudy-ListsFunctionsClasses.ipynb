{
 "cells": [
  {
   "cell_type": "code",
   "execution_count": null,
   "id": "b17a80f8-18f6-4664-88c2-1dea6516c6a8",
   "metadata": {},
   "outputs": [
    {
     "name": "stdout",
     "output_type": "stream",
     "text": [
      "Enter the details of your car:\n"
     ]
    }
   ],
   "source": [
    "class Vehicle:\n",
    "    def __init__(self, vehicle_type):\n",
    "        self.vehicle_type = vehicle_type\n",
    "class Automobile(Vehicle):\n",
    "    def __init__(self, year, make, model, doors, roof):\n",
    "        super().__init__(\"car\")\n",
    "        self.year = year\n",
    "        self.make = make\n",
    "        self.model = model\n",
    "        self.doors = doors\n",
    "        self.roof = roof\n",
    "def main():\n",
    "    print(\"Enter the details of your car:\")\n",
    "    year = int(input(\"Year: \"))\n",
    "    make = input(\"Make: \")\n",
    "    model = input(\"Model: \")\n",
    "    doors = int(input(\"Number of doors (2 or 4): \"))\n",
    "    roof = input(\"Type of roof (solid or sun roof): \")\n",
    "\n",
    "    car = Automobile(year, make, model, doors, roof)\n",
    "\n",
    "    print(\"\\nVehicle Information:\")\n",
    "    print(f\" Vehicle type: {car.vehicle_type}\")\n",
    "    print(f\" Year: {car.year}\")\n",
    "    print(f\" Make: {car.make}\")\n",
    "    print(f\" Model: {car.model}\")\n",
    "    print(f\" Number of doors: {car.doors}\")\n",
    "    print(f\" Type of roof: {car.roof}\")\n",
    "if __name__ == \"__main__\":\n",
    "    main()"
   ]
  }
 ],
 "metadata": {
  "kernelspec": {
   "display_name": "Python [conda env:base] *",
   "language": "python",
   "name": "conda-base-py"
  },
  "language_info": {
   "codemirror_mode": {
    "name": "ipython",
    "version": 3
   },
   "file_extension": ".py",
   "mimetype": "text/x-python",
   "name": "python",
   "nbconvert_exporter": "python",
   "pygments_lexer": "ipython3",
   "version": "3.12.7"
  }
 },
 "nbformat": 4,
 "nbformat_minor": 5
}

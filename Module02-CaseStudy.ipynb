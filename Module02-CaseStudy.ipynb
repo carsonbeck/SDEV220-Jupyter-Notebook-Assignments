{
 "cells": [
  {
   "cell_type": "code",
   "execution_count": null,
   "id": "f292e4a7-2243-42cc-91ae-48d87fe90e86",
   "metadata": {},
   "outputs": [
    {
     "name": "stdout",
     "output_type": "stream",
     "text": [
      "Student Qualification Checker\n",
      "Enter 'ZZZ' as the last name to quit.\n",
      "\n"
     ]
    }
   ],
   "source": [
    "# Carson Beckmann\n",
    "# Module02-CaseStudy.ipynd\n",
    "# This app will prompt the user to input a last name, first name, and GPA of a student, process the information, and output whether that student has\n",
    "## made the Dean's List, Honor Roll, or neither.\n",
    "\n",
    "print(\"Student Qualification Checker\")\n",
    "print(\"Enter 'ZZZ' as the last name to quit.\\n\")\n",
    "while True:\n",
    "    last_name = input(\"Enter the student's last name: \")\n",
    "    if last_name.upper() == 'ZZZ':\n",
    "        print(\"Exiting the program. Bye!\")\n",
    "        break\n",
    "    first_name = input(\"Enter the student's first name: \")\n",
    "    try:\n",
    "        gpa = float(input(\"Enter the student's GPA: \"))\n",
    "    except ValueError:\n",
    "        print(\"Invalid input. Please try again.\")\n",
    "        continue\n",
    "    if gpa >= 3.5:\n",
    "            print(f\"{first_name} {last_name} has made the Dean's List.\")\n",
    "    elif gpa >= 3.25:\n",
    "        print(f\"{first_name} {last_name} has made the Honor Roll.\")\n",
    "    else:\n",
    "            print(f\"{first_name} {last_name} does not qualify for any honors.\")\n",
    "    print()"
   ]
  },
  {
   "cell_type": "code",
   "execution_count": null,
   "id": "96747f53-2cd8-4a38-9f60-ff4d2b74669f",
   "metadata": {},
   "outputs": [],
   "source": []
  }
 ],
 "metadata": {
  "kernelspec": {
   "display_name": "Python [conda env:base] *",
   "language": "python",
   "name": "conda-base-py"
  },
  "language_info": {
   "codemirror_mode": {
    "name": "ipython",
    "version": 3
   },
   "file_extension": ".py",
   "mimetype": "text/x-python",
   "name": "python",
   "nbconvert_exporter": "python",
   "pygments_lexer": "ipython3",
   "version": "3.12.7"
  }
 },
 "nbformat": 4,
 "nbformat_minor": 5
}

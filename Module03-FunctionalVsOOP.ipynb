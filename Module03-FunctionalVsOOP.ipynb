{
 "cells": [
  {
   "cell_type": "code",
   "execution_count": 29,
   "id": "a0e734d8-1440-482b-88d3-56506a68b4ed",
   "metadata": {},
   "outputs": [
    {
     "name": "stdout",
     "output_type": "stream",
     "text": [
      "0011222"
     ]
    }
   ],
   "source": [
    "def sort(arr):\n",
    "    c0 = 0\n",
    "    c1 = 0\n",
    "    c2 = 0\n",
    "\n",
    "    for num in arr:\n",
    "        if num == 0:\n",
    "            c0 += 1\n",
    "        elif num == 1:\n",
    "            c1 +=1\n",
    "        else:\n",
    "            c2 += 1\n",
    "    idx = 0\n",
    "\n",
    "    for i in range(c0):\n",
    "        arr[idx] = 0\n",
    "        idx += 1\n",
    "    for i in range(c1):\n",
    "        arr[idx] = 1\n",
    "        idx += 1\n",
    "    for i in range(c2):\n",
    "        arr[idx] = 2\n",
    "        idx += 1\n",
    "arr = [1, 2, 0, 0, 2, 1, 2]\n",
    "sort(arr)\n",
    "\n",
    "for x in arr:\n",
    "    print(x, end = \"\")"
   ]
  },
  {
   "cell_type": "code",
   "execution_count": 42,
   "id": "4e28609e-023b-4899-92da-3044d162ce19",
   "metadata": {},
   "outputs": [
    {
     "name": "stdout",
     "output_type": "stream",
     "text": [
      "3\n"
     ]
    }
   ],
   "source": [
    "def find_first_occurrence(arr, k):\n",
    "    def binary_search(low, high):\n",
    "        if low > high:\n",
    "            return -1\n",
    "        mid = (low + high) // 2\n",
    "        if arr[mid] <k:\n",
    "            return binary_search(mid + 1, high)\n",
    "        elif arr[mid] > k:\n",
    "            return binary_search(low, mid - 1)\n",
    "        else:\n",
    "            left_result = binary_search(low, mid - 1)\n",
    "            return left_result if left_result != -1 else mid\n",
    "    return binary_search(0, len(arr) - 1)\n",
    "\n",
    "arr = [1, 2, 3, 4, 5]\n",
    "k = 4\n",
    "print(find_first_occurrence(arr, k))"
   ]
  }
 ],
 "metadata": {
  "kernelspec": {
   "display_name": "Python [conda env:base] *",
   "language": "python",
   "name": "conda-base-py"
  },
  "language_info": {
   "codemirror_mode": {
    "name": "ipython",
    "version": 3
   },
   "file_extension": ".py",
   "mimetype": "text/x-python",
   "name": "python",
   "nbconvert_exporter": "python",
   "pygments_lexer": "ipython3",
   "version": "3.12.7"
  }
 },
 "nbformat": 4,
 "nbformat_minor": 5
}
